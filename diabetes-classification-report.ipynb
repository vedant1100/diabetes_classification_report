{
 "cells": [
  {
   "cell_type": "code",
   "execution_count": 1,
   "id": "631fde57",
   "metadata": {
    "_cell_guid": "b1076dfc-b9ad-4769-8c92-a6c4dae69d19",
    "_uuid": "8f2839f25d086af736a60e9eeb907d3b93b6e0e5",
    "execution": {
     "iopub.execute_input": "2023-04-21T04:48:06.209118Z",
     "iopub.status.busy": "2023-04-21T04:48:06.208397Z",
     "iopub.status.idle": "2023-04-21T04:48:06.227411Z",
     "shell.execute_reply": "2023-04-21T04:48:06.225962Z"
    },
    "papermill": {
     "duration": 0.029938,
     "end_time": "2023-04-21T04:48:06.230657",
     "exception": false,
     "start_time": "2023-04-21T04:48:06.200719",
     "status": "completed"
    },
    "tags": []
   },
   "outputs": [
    {
     "name": "stdout",
     "output_type": "stream",
     "text": [
      "/kaggle/input/maharashtra-legislative-assembly-elections2019/Maharashtra Legislative Assembly Elemction Results 2019.csv\n"
     ]
    }
   ],
   "source": [
    "# This Python 3 environment comes with many helpful analytics libraries installed\n",
    "# It is defined by the kaggle/python Docker image: https://github.com/kaggle/docker-python\n",
    "# For example, here's several helpful packages to load\n",
    "\n",
    "import numpy as np # linear algebra\n",
    "import pandas as pd # data processing, CSV file I/O (e.g. pd.read_csv)\n",
    "\n",
    "# Input data files are available in the read-only \"../input/\" directory\n",
    "# For example, running this (by clicking run or pressing Shift+Enter) will list all files under the input directory\n",
    "\n",
    "import os\n",
    "for dirname, _, filenames in os.walk('/kaggle/input'):\n",
    "    for filename in filenames:\n",
    "        print(os.path.join(dirname, filename))\n",
    "\n",
    "# You can write up to 20GB to the current directory (/kaggle/working/) that gets preserved as output when you create a version using \"Save & Run All\" \n",
    "# You can also write temporary files to /kaggle/temp/, but they won't be saved outside of the current session"
   ]
  },
  {
   "cell_type": "code",
   "execution_count": 2,
   "id": "dc81ae8c",
   "metadata": {
    "execution": {
     "iopub.execute_input": "2023-04-21T04:48:06.242095Z",
     "iopub.status.busy": "2023-04-21T04:48:06.240922Z",
     "iopub.status.idle": "2023-04-21T04:48:06.513009Z",
     "shell.execute_reply": "2023-04-21T04:48:06.511613Z"
    },
    "papermill": {
     "duration": 0.28047,
     "end_time": "2023-04-21T04:48:06.515704",
     "exception": false,
     "start_time": "2023-04-21T04:48:06.235234",
     "status": "completed"
    },
    "tags": []
   },
   "outputs": [
    {
     "data": {
      "text/plain": [
       "Index(['pregnancies', 'glucose', 'diastolic', 'triceps', 'insulin', 'bmi',\n",
       "       'dpf', 'age', 'diabetes'],\n",
       "      dtype='object')"
      ]
     },
     "execution_count": 2,
     "metadata": {},
     "output_type": "execute_result"
    }
   ],
   "source": [
    "diabetes=pd.read_csv(\"https://github.com/YBIFoundation/Dataset/raw/main/Diabetes.csv\")\n",
    "diabetes.columns"
   ]
  },
  {
   "cell_type": "code",
   "execution_count": 3,
   "id": "17a3e384",
   "metadata": {
    "execution": {
     "iopub.execute_input": "2023-04-21T04:48:06.526753Z",
     "iopub.status.busy": "2023-04-21T04:48:06.526054Z",
     "iopub.status.idle": "2023-04-21T04:48:06.539601Z",
     "shell.execute_reply": "2023-04-21T04:48:06.538436Z"
    },
    "papermill": {
     "duration": 0.021857,
     "end_time": "2023-04-21T04:48:06.542207",
     "exception": false,
     "start_time": "2023-04-21T04:48:06.520350",
     "status": "completed"
    },
    "tags": []
   },
   "outputs": [],
   "source": [
    "\"\"\"\n",
    "Define target(y) and features(x)\n",
    "\"\"\"\n",
    "\n",
    "y = diabetes['diabetes']\n",
    "x = diabetes.drop(['diabetes'],axis=1)"
   ]
  },
  {
   "cell_type": "code",
   "execution_count": 4,
   "id": "1ca168e4",
   "metadata": {
    "execution": {
     "iopub.execute_input": "2023-04-21T04:48:06.553461Z",
     "iopub.status.busy": "2023-04-21T04:48:06.552414Z",
     "iopub.status.idle": "2023-04-21T04:48:07.575234Z",
     "shell.execute_reply": "2023-04-21T04:48:07.574134Z"
    },
    "papermill": {
     "duration": 1.031952,
     "end_time": "2023-04-21T04:48:07.578627",
     "exception": false,
     "start_time": "2023-04-21T04:48:06.546675",
     "status": "completed"
    },
    "tags": []
   },
   "outputs": [],
   "source": [
    "\"\"\"\n",
    "Train test split\n",
    "\"\"\"\n",
    "\n",
    "from sklearn.model_selection import train_test_split\n",
    "x_train,x_test,y_train,y_test=train_test_split(x,y,random_state=100)"
   ]
  },
  {
   "cell_type": "code",
   "execution_count": 5,
   "id": "bfa03571",
   "metadata": {
    "execution": {
     "iopub.execute_input": "2023-04-21T04:48:07.590298Z",
     "iopub.status.busy": "2023-04-21T04:48:07.589055Z",
     "iopub.status.idle": "2023-04-21T04:48:07.681186Z",
     "shell.execute_reply": "2023-04-21T04:48:07.680078Z"
    },
    "papermill": {
     "duration": 0.100946,
     "end_time": "2023-04-21T04:48:07.684090",
     "exception": false,
     "start_time": "2023-04-21T04:48:07.583144",
     "status": "completed"
    },
    "tags": []
   },
   "outputs": [],
   "source": [
    "from sklearn.linear_model import LogisticRegression\n",
    "model=LogisticRegression(max_iter=500)"
   ]
  },
  {
   "cell_type": "code",
   "execution_count": 6,
   "id": "38fd5f90",
   "metadata": {
    "execution": {
     "iopub.execute_input": "2023-04-21T04:48:07.695841Z",
     "iopub.status.busy": "2023-04-21T04:48:07.694415Z",
     "iopub.status.idle": "2023-04-21T04:48:07.751344Z",
     "shell.execute_reply": "2023-04-21T04:48:07.749993Z"
    },
    "papermill": {
     "duration": 0.065768,
     "end_time": "2023-04-21T04:48:07.754253",
     "exception": false,
     "start_time": "2023-04-21T04:48:07.688485",
     "status": "completed"
    },
    "tags": []
   },
   "outputs": [
    {
     "data": {
      "text/plain": [
       "LogisticRegression(max_iter=500)"
      ]
     },
     "execution_count": 6,
     "metadata": {},
     "output_type": "execute_result"
    }
   ],
   "source": [
    "model.fit(x_train,y_train)"
   ]
  },
  {
   "cell_type": "code",
   "execution_count": 7,
   "id": "5bf464a4",
   "metadata": {
    "execution": {
     "iopub.execute_input": "2023-04-21T04:48:07.765893Z",
     "iopub.status.busy": "2023-04-21T04:48:07.764716Z",
     "iopub.status.idle": "2023-04-21T04:48:07.772771Z",
     "shell.execute_reply": "2023-04-21T04:48:07.771443Z"
    },
    "papermill": {
     "duration": 0.016723,
     "end_time": "2023-04-21T04:48:07.775492",
     "exception": false,
     "start_time": "2023-04-21T04:48:07.758769",
     "status": "completed"
    },
    "tags": []
   },
   "outputs": [
    {
     "data": {
      "text/plain": [
       "True"
      ]
     },
     "execution_count": 7,
     "metadata": {},
     "output_type": "execute_result"
    }
   ],
   "source": [
    "model.fit_intercept"
   ]
  },
  {
   "cell_type": "code",
   "execution_count": 8,
   "id": "af6d28ba",
   "metadata": {
    "execution": {
     "iopub.execute_input": "2023-04-21T04:48:07.787185Z",
     "iopub.status.busy": "2023-04-21T04:48:07.786288Z",
     "iopub.status.idle": "2023-04-21T04:48:07.794134Z",
     "shell.execute_reply": "2023-04-21T04:48:07.793058Z"
    },
    "papermill": {
     "duration": 0.01637,
     "end_time": "2023-04-21T04:48:07.796618",
     "exception": false,
     "start_time": "2023-04-21T04:48:07.780248",
     "status": "completed"
    },
    "tags": []
   },
   "outputs": [
    {
     "data": {
      "text/plain": [
       "array([[ 1.03186872e-01,  3.85554833e-02, -1.12828523e-02,\n",
       "         6.59810996e-04, -1.25282607e-03,  9.74622608e-02,\n",
       "         1.16192580e+00,  2.33752775e-02]])"
      ]
     },
     "execution_count": 8,
     "metadata": {},
     "output_type": "execute_result"
    }
   ],
   "source": [
    "model.coef_"
   ]
  },
  {
   "cell_type": "code",
   "execution_count": 9,
   "id": "982b872c",
   "metadata": {
    "execution": {
     "iopub.execute_input": "2023-04-21T04:48:07.808436Z",
     "iopub.status.busy": "2023-04-21T04:48:07.807981Z",
     "iopub.status.idle": "2023-04-21T04:48:07.818846Z",
     "shell.execute_reply": "2023-04-21T04:48:07.817523Z"
    },
    "papermill": {
     "duration": 0.020017,
     "end_time": "2023-04-21T04:48:07.821461",
     "exception": false,
     "start_time": "2023-04-21T04:48:07.801444",
     "status": "completed"
    },
    "tags": []
   },
   "outputs": [
    {
     "data": {
      "text/plain": [
       "array([0, 0, 1, 0, 0, 1, 1, 0, 1, 0, 0, 1, 1, 0, 1, 0, 0, 0, 1, 0, 0, 0,\n",
       "       1, 1, 0, 1, 0, 0, 1, 1, 0, 1, 0, 1, 0, 0, 1, 0, 0, 0, 0, 1, 0, 0,\n",
       "       0, 1, 0, 0, 1, 1, 0, 0, 0, 1, 1, 1, 0, 0, 1, 0, 0, 0, 0, 0, 0, 0,\n",
       "       0, 0, 0, 0, 0, 1, 0, 0, 0, 0, 0, 1, 0, 0, 0, 0, 0, 0, 0, 0, 0, 1,\n",
       "       1, 0, 0, 0, 1, 0, 0, 1, 0, 1, 0, 0, 1, 0, 1, 0, 0, 0, 1, 0, 0, 1,\n",
       "       0, 0, 1, 0, 0, 0, 1, 0, 0, 0, 0, 1, 0, 0, 0, 0, 0, 0, 0, 0, 0, 1,\n",
       "       1, 0, 0, 1, 0, 0, 0, 0, 1, 1, 0, 1, 0, 0, 0, 0, 0, 0, 0, 0, 0, 0,\n",
       "       1, 0, 0, 0, 1, 0, 0, 0, 0, 0, 0, 0, 1, 0, 0, 0, 0, 1, 0, 0, 1, 1,\n",
       "       1, 0, 1, 0, 1, 1, 0, 0, 1, 0, 0, 0, 0, 0, 1, 0])"
      ]
     },
     "execution_count": 9,
     "metadata": {},
     "output_type": "execute_result"
    }
   ],
   "source": [
    "model.predict(x_test)"
   ]
  },
  {
   "cell_type": "code",
   "execution_count": 10,
   "id": "9a2313ba",
   "metadata": {
    "execution": {
     "iopub.execute_input": "2023-04-21T04:48:07.833428Z",
     "iopub.status.busy": "2023-04-21T04:48:07.832976Z",
     "iopub.status.idle": "2023-04-21T04:48:07.840487Z",
     "shell.execute_reply": "2023-04-21T04:48:07.839094Z"
    },
    "papermill": {
     "duration": 0.016866,
     "end_time": "2023-04-21T04:48:07.843334",
     "exception": false,
     "start_time": "2023-04-21T04:48:07.826468",
     "status": "completed"
    },
    "tags": []
   },
   "outputs": [],
   "source": [
    "y=model.predict(x_test)"
   ]
  },
  {
   "cell_type": "code",
   "execution_count": 11,
   "id": "0fda452e",
   "metadata": {
    "execution": {
     "iopub.execute_input": "2023-04-21T04:48:07.855229Z",
     "iopub.status.busy": "2023-04-21T04:48:07.854732Z",
     "iopub.status.idle": "2023-04-21T04:48:07.865700Z",
     "shell.execute_reply": "2023-04-21T04:48:07.864281Z"
    },
    "papermill": {
     "duration": 0.020085,
     "end_time": "2023-04-21T04:48:07.868376",
     "exception": false,
     "start_time": "2023-04-21T04:48:07.848291",
     "status": "completed"
    },
    "tags": []
   },
   "outputs": [
    {
     "data": {
      "text/plain": [
       "array([[106,  21],\n",
       "       [ 30,  35]])"
      ]
     },
     "execution_count": 11,
     "metadata": {},
     "output_type": "execute_result"
    }
   ],
   "source": [
    "from sklearn.metrics import confusion_matrix, accuracy_score, classification_report\n",
    "confusion_matrix(y_test,y)"
   ]
  },
  {
   "cell_type": "code",
   "execution_count": 12,
   "id": "b5f7a539",
   "metadata": {
    "execution": {
     "iopub.execute_input": "2023-04-21T04:48:07.880534Z",
     "iopub.status.busy": "2023-04-21T04:48:07.880098Z",
     "iopub.status.idle": "2023-04-21T04:48:07.888166Z",
     "shell.execute_reply": "2023-04-21T04:48:07.886975Z"
    },
    "papermill": {
     "duration": 0.017293,
     "end_time": "2023-04-21T04:48:07.890791",
     "exception": false,
     "start_time": "2023-04-21T04:48:07.873498",
     "status": "completed"
    },
    "tags": []
   },
   "outputs": [
    {
     "data": {
      "text/plain": [
       "0.734375"
      ]
     },
     "execution_count": 12,
     "metadata": {},
     "output_type": "execute_result"
    }
   ],
   "source": [
    "accuracy_score(y_test,y)"
   ]
  },
  {
   "cell_type": "code",
   "execution_count": 13,
   "id": "5c058f57",
   "metadata": {
    "execution": {
     "iopub.execute_input": "2023-04-21T04:48:07.903148Z",
     "iopub.status.busy": "2023-04-21T04:48:07.902710Z",
     "iopub.status.idle": "2023-04-21T04:48:07.913856Z",
     "shell.execute_reply": "2023-04-21T04:48:07.912283Z"
    },
    "papermill": {
     "duration": 0.020523,
     "end_time": "2023-04-21T04:48:07.916558",
     "exception": false,
     "start_time": "2023-04-21T04:48:07.896035",
     "status": "completed"
    },
    "tags": []
   },
   "outputs": [
    {
     "name": "stdout",
     "output_type": "stream",
     "text": [
      "              precision    recall  f1-score   support\n",
      "\n",
      "           0       0.78      0.83      0.81       127\n",
      "           1       0.62      0.54      0.58        65\n",
      "\n",
      "    accuracy                           0.73       192\n",
      "   macro avg       0.70      0.69      0.69       192\n",
      "weighted avg       0.73      0.73      0.73       192\n",
      "\n"
     ]
    }
   ],
   "source": [
    "print(classification_report(y_test,y))"
   ]
  },
  {
   "cell_type": "code",
   "execution_count": null,
   "id": "5c41dca3",
   "metadata": {
    "papermill": {
     "duration": 0.005489,
     "end_time": "2023-04-21T04:48:07.927334",
     "exception": false,
     "start_time": "2023-04-21T04:48:07.921845",
     "status": "completed"
    },
    "tags": []
   },
   "outputs": [],
   "source": []
  }
 ],
 "metadata": {
  "kernelspec": {
   "display_name": "Python 3",
   "language": "python",
   "name": "python3"
  },
  "language_info": {
   "codemirror_mode": {
    "name": "ipython",
    "version": 3
   },
   "file_extension": ".py",
   "mimetype": "text/x-python",
   "name": "python",
   "nbconvert_exporter": "python",
   "pygments_lexer": "ipython3",
   "version": "3.7.12"
  },
  "papermill": {
   "default_parameters": {},
   "duration": 12.993516,
   "end_time": "2023-04-21T04:48:08.656056",
   "environment_variables": {},
   "exception": null,
   "input_path": "__notebook__.ipynb",
   "output_path": "__notebook__.ipynb",
   "parameters": {},
   "start_time": "2023-04-21T04:47:55.662540",
   "version": "2.4.0"
  }
 },
 "nbformat": 4,
 "nbformat_minor": 5
}
